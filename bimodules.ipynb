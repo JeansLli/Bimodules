{
 "cells": [
  {
   "cell_type": "code",
   "execution_count": 1,
   "id": "72c17bd3",
   "metadata": {},
   "outputs": [],
   "source": [
    "from IPython.display import Image\n",
    "from os import chdir\n",
    "import numpy as np\n",
    "import gudhi as gd\n",
    "import matplotlib.pyplot as plt"
   ]
  },
  {
   "cell_type": "code",
   "execution_count": 2,
   "id": "7c6a8985",
   "metadata": {},
   "outputs": [],
   "source": [
    "st = gd.SimplexTree()"
   ]
  },
  {
   "cell_type": "code",
   "execution_count": 3,
   "id": "9c725bfd",
   "metadata": {},
   "outputs": [],
   "source": [
    "i = 0\n",
    "last_block_line = 1\n",
    "for line in open(\"./data/example_2d.txt\"):\n",
    "    if(line[0]!='#'):\n",
    "        #print(line)\n",
    "        if(i<=1):\n",
    "            i=i+1\n",
    "            continue\n",
    "            \n",
    "        elif(i==2):\n",
    "            rank=[]\n",
    "            for j in line.split():\n",
    "                rank.append(int(j))\n",
    "            i=i+1\n",
    "        else:\n",
    "            #print(\"last_block_line=\",last_block_line)\n",
    "            block = line.split(';')\n",
    "            grid = block[0].split()\n",
    "            filt_value = int(grid[0]) + int(grid[1])\n",
    "            #print(\"grid=\",grid)\n",
    "            \n",
    "            if len(block)>1:\n",
    "                face = block[1].split()\n",
    "                for j in range(len(face)):\n",
    "                    face[j] = int(face[j])\n",
    "                #print(\"face\",face)\n",
    "                \n",
    "                st.insert(face, filtration = filt_value)\n",
    "                \n",
    "            else:\n",
    "                st.insert([last_block_line], filtration = filt_value)\n",
    "                last_block_line = last_block_line + 1\n",
    "            i=i+1   "
   ]
  },
  {
   "cell_type": "code",
   "execution_count": 4,
   "id": "140262a0",
   "metadata": {},
   "outputs": [
    {
     "name": "stdout",
     "output_type": "stream",
     "text": [
      "([1], 0.0)\n",
      "([2], 1.0)\n",
      "([3], 2.0)\n",
      "([1, 2], 3.0)\n",
      "([1, 3], 4.0)\n",
      "([2, 3], 5.0)\n",
      "([1, 2, 3], 6.0)\n"
     ]
    }
   ],
   "source": [
    "st_gen = st.get_filtration() \n",
    "for splx in st_gen :\n",
    "    print(splx)"
   ]
  },
  {
   "cell_type": "code",
   "execution_count": 5,
   "id": "ac700e43",
   "metadata": {},
   "outputs": [
    {
     "data": {
      "text/plain": [
       "2"
      ]
     },
     "execution_count": 5,
     "metadata": {},
     "output_type": "execute_result"
    }
   ],
   "source": [
    "st.dimension()"
   ]
  },
  {
   "cell_type": "code",
   "execution_count": 6,
   "id": "224db785",
   "metadata": {},
   "outputs": [
    {
     "data": {
      "text/plain": [
       "3"
      ]
     },
     "execution_count": 6,
     "metadata": {},
     "output_type": "execute_result"
    }
   ],
   "source": [
    "st.num_vertices()"
   ]
  },
  {
   "cell_type": "code",
   "execution_count": 7,
   "id": "36b240f2",
   "metadata": {},
   "outputs": [
    {
     "data": {
      "text/plain": [
       "7"
      ]
     },
     "execution_count": 7,
     "metadata": {},
     "output_type": "execute_result"
    }
   ],
   "source": [
    "st.num_simplices()"
   ]
  },
  {
   "cell_type": "code",
   "execution_count": 8,
   "id": "1a2fa7bd",
   "metadata": {},
   "outputs": [
    {
     "name": "stdout",
     "output_type": "stream",
     "text": [
      "(1, (5.0, 6.0))\n",
      "(0, (0.0, inf))\n",
      "(0, (1.0, 3.0))\n",
      "(0, (2.0, 4.0))\n"
     ]
    }
   ],
   "source": [
    "barcodes = st.persistence()\n",
    "for barcode in barcodes:\n",
    "    print(barcode)"
   ]
  },
  {
   "cell_type": "code",
   "execution_count": 9,
   "id": "6e169883",
   "metadata": {},
   "outputs": [
    {
     "data": {
      "image/png": "[encoded data removed]",
      "text/plain": [
       "<Figure size 432x288 with 1 Axes>"
      ]
     },
     "metadata": {
      "needs_background": "light"
     },
     "output_type": "display_data"
    }
   ],
   "source": [
    "gd.plot_persistence_diagram(barcodes);"
   ]
  },
  {
   "cell_type": "code",
   "execution_count": 10,
   "id": "862652ab",
   "metadata": {},
   "outputs": [
    {
     "name": "stdout",
     "output_type": "stream",
     "text": [
      "s_1= 4\n",
      "t_1= 6\n",
      "rank0= 1\n",
      "rank1= 0\n",
      "rank((2,2),(3,3))=1\n"
     ]
    }
   ],
   "source": [
    "# for 0th persistent homology module\n",
    "\n",
    "# first, let's compute rank((2,2),(3,3))\n",
    "\n",
    "x_range = 4\n",
    "y_range = 4\n",
    "rank_invariance = np.array(np.zeros((x_range,y_range,x_range,y_range)))\n",
    "\n",
    "\n",
    "s = [2,2]\n",
    "t = [3,3]\n",
    "\n",
    "s_1 = s[0]+s[1]\n",
    "t_1 = t[0]+t[1]\n",
    "\n",
    "print(\"s_1=\",s_1)\n",
    "print(\"t_1=\",t_1)\n",
    "\n",
    "rank0_inv = 0\n",
    "rank1_inv = 0\n",
    "\n",
    "for barcode in barcodes:\n",
    "    if(barcode[0]==0):\n",
    "        if(barcode[1][0]<=s_1 and barcode[1][1]>=t_1):\n",
    "            rank0_inv = rank0_inv + 1\n",
    "    elif(barcode[0]==1):\n",
    "        if(barcode[1][0]<=s_1 and barcode[1][1]>=t_1):\n",
    "            rank1_inv = rank1_inv + 1\n",
    "\n",
    "print(\"rank0=\",rank0_inv)\n",
    "print(\"rank1=\",rank1_inv)\n",
    "rank_invariance[s[0],s[1],t[0],t[1]]=rank0_inv\n",
    "\n",
    "\n",
    "for i in range(x_range):\n",
    "    for j in range(y_range):\n",
    "        for k in range(x_range):\n",
    "            for l in range(y_range):\n",
    "                if rank_invariance[i,j,k,l]!=0:\n",
    "                    print(\"rank(({0},{1}),({2},{3}))={4}\".format(i,j,k,l,int(rank_invariance[i,j,k,l])))\n",
    "\n",
    "        \n"
   ]
  },
  {
   "cell_type": "code",
   "execution_count": 11,
   "id": "4424855b",
   "metadata": {},
   "outputs": [
    {
     "name": "stdout",
     "output_type": "stream",
     "text": [
      "rank((0,0),(0,0))=1\n",
      "rank((0,0),(0,1))=1\n",
      "rank((0,0),(0,2))=1\n",
      "rank((0,0),(0,3))=1\n",
      "rank((0,0),(1,0))=1\n",
      "rank((0,0),(1,1))=1\n",
      "rank((0,0),(1,2))=1\n",
      "rank((0,0),(1,3))=1\n",
      "rank((0,0),(2,0))=1\n",
      "rank((0,0),(2,1))=1\n",
      "rank((0,0),(2,2))=1\n",
      "rank((0,0),(2,3))=1\n",
      "rank((0,0),(3,0))=1\n",
      "rank((0,0),(3,1))=1\n",
      "rank((0,0),(3,2))=1\n",
      "rank((0,0),(3,3))=1\n",
      "rank((0,1),(0,1))=2\n",
      "rank((0,1),(0,2))=2\n",
      "rank((0,1),(0,3))=2\n",
      "rank((0,1),(1,1))=2\n",
      "rank((0,1),(1,2))=2\n",
      "rank((0,1),(1,3))=1\n",
      "rank((0,1),(2,1))=2\n",
      "rank((0,1),(2,2))=1\n",
      "rank((0,1),(2,3))=1\n",
      "rank((0,1),(3,1))=1\n",
      "rank((0,1),(3,2))=1\n",
      "rank((0,1),(3,3))=1\n",
      "rank((0,2),(0,2))=3\n",
      "rank((0,2),(0,3))=3\n",
      "rank((0,2),(1,2))=3\n",
      "rank((0,2),(1,3))=2\n",
      "rank((0,2),(2,2))=2\n",
      "rank((0,2),(2,3))=1\n",
      "rank((0,2),(3,2))=1\n",
      "rank((0,2),(3,3))=1\n",
      "rank((0,3),(0,3))=3\n",
      "rank((0,3),(1,3))=2\n",
      "rank((0,3),(2,3))=1\n",
      "rank((0,3),(3,3))=1\n",
      "rank((1,0),(1,0))=2\n",
      "rank((1,0),(1,1))=2\n",
      "rank((1,0),(1,2))=2\n",
      "rank((1,0),(1,3))=1\n",
      "rank((1,0),(2,0))=2\n",
      "rank((1,0),(2,1))=2\n",
      "rank((1,0),(2,2))=1\n",
      "rank((1,0),(2,3))=1\n",
      "rank((1,0),(3,0))=2\n",
      "rank((1,0),(3,1))=1\n",
      "rank((1,0),(3,2))=1\n",
      "rank((1,0),(3,3))=1\n",
      "rank((1,1),(1,1))=3\n",
      "rank((1,1),(1,2))=3\n",
      "rank((1,1),(1,3))=2\n",
      "rank((1,1),(2,1))=3\n",
      "rank((1,1),(2,2))=2\n",
      "rank((1,1),(2,3))=1\n",
      "rank((1,1),(3,1))=2\n",
      "rank((1,1),(3,2))=1\n",
      "rank((1,1),(3,3))=1\n",
      "rank((1,2),(1,2))=3\n",
      "rank((1,2),(1,3))=2\n",
      "rank((1,2),(2,2))=2\n",
      "rank((1,2),(2,3))=1\n",
      "rank((1,2),(3,2))=1\n",
      "rank((1,2),(3,3))=1\n",
      "rank((1,3),(1,3))=2\n",
      "rank((1,3),(2,3))=1\n",
      "rank((1,3),(3,3))=1\n",
      "rank((2,0),(2,0))=3\n",
      "rank((2,0),(2,1))=3\n",
      "rank((2,0),(2,2))=2\n",
      "rank((2,0),(2,3))=1\n",
      "rank((2,0),(3,0))=3\n",
      "rank((2,0),(3,1))=2\n",
      "rank((2,0),(3,2))=1\n",
      "rank((2,0),(3,3))=1\n",
      "rank((2,1),(2,1))=3\n",
      "rank((2,1),(2,2))=2\n",
      "rank((2,1),(2,3))=1\n",
      "rank((2,1),(3,1))=2\n",
      "rank((2,1),(3,2))=1\n",
      "rank((2,1),(3,3))=1\n",
      "rank((2,2),(2,2))=2\n",
      "rank((2,2),(2,3))=1\n",
      "rank((2,2),(3,2))=1\n",
      "rank((2,2),(3,3))=1\n",
      "rank((2,3),(2,3))=1\n",
      "rank((2,3),(3,3))=1\n",
      "rank((3,0),(3,0))=3\n",
      "rank((3,0),(3,1))=2\n",
      "rank((3,0),(3,2))=1\n",
      "rank((3,0),(3,3))=1\n",
      "rank((3,1),(3,1))=2\n",
      "rank((3,1),(3,2))=1\n",
      "rank((3,1),(3,3))=1\n",
      "rank((3,2),(3,2))=1\n",
      "rank((3,2),(3,3))=1\n",
      "rank((3,3),(3,3))=1\n"
     ]
    }
   ],
   "source": [
    "# then let's compute rank invariance from (0,0) to (3,3)\n",
    "\n",
    "\n",
    "def compute_rk(i,j,k,l,barcodes):\n",
    "    s_1 = i + j\n",
    "    t_1 = k + l\n",
    "\n",
    "    rank0_inv = 0\n",
    "    rank1_inv = 0\n",
    "\n",
    "    for barcode in barcodes:\n",
    "        if(barcode[0]==0):\n",
    "            if(barcode[1][0]<=s_1 and barcode[1][1]>=t_1):\n",
    "                rank0_inv = rank0_inv + 1\n",
    "        elif(barcode[0]==1):\n",
    "            if(barcode[1][0]<=s_1 and barcode[1][1]>=t_1):\n",
    "                rank1_inv = rank1_inv + 1\n",
    "\n",
    "    return rank0_inv\n",
    "\n",
    "\n",
    "x_range = 4\n",
    "y_range = 4\n",
    "rank_invariance = np.array(np.zeros((x_range,y_range,x_range,y_range)))\n",
    "\n",
    "\n",
    "for i in range(x_range):\n",
    "    for j in range(y_range):\n",
    "        for k in range(x_range):\n",
    "            for l in range(y_range):\n",
    "                if i<=k and j<=l:\n",
    "                    rank_invariance[i,j,k,l] = compute_rk(i,j,k,l,barcodes)\n",
    "                    print(\"rank(({0},{1}),({2},{3}))={4}\".format(i,j,k,l,int(rank_invariance[i,j,k,l])))\n",
    "                else:\n",
    "                    rank_invariance[i,j,k,l] = 0\n",
    "                \n"
   ]
  },
  {
   "cell_type": "code",
   "execution_count": null,
   "id": "c9f31165",
   "metadata": {},
   "outputs": [],
   "source": []
  }
 ],
 "metadata": {
  "kernelspec": {
   "display_name": "Python [conda env:TDA] *",
   "language": "python",
   "name": "conda-env-TDA-py"
  },
  "language_info": {
   "codemirror_mode": {
    "name": "ipython",
    "version": 3
   },
   "file_extension": ".py",
   "mimetype": "text/x-python",
   "name": "python",
   "nbconvert_exporter": "python",
   "pygments_lexer": "ipython3",
   "version": "3.8.12"
  }
 },
 "nbformat": 4,
 "nbformat_minor": 5
}
