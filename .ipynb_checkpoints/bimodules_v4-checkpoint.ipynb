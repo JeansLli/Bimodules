{
 "cells": [
  {
   "cell_type": "code",
   "execution_count": 1,
   "id": "65c011d9",
   "metadata": {},
   "outputs": [],
   "source": [
    "from IPython.display import Image\n",
    "from os import chdir\n",
    "import numpy as np\n",
    "import gudhi as gd\n",
    "import matplotlib.pyplot as plt\n",
    "import matplotlib"
   ]
  },
  {
   "cell_type": "code",
   "execution_count": 2,
   "id": "ef7f006b",
   "metadata": {},
   "outputs": [
    {
     "name": "stdout",
     "output_type": "stream",
     "text": [
      "rank_num= [447, 347, 181, 50]\n"
     ]
    }
   ],
   "source": [
    "# read the file\n",
    "file_name = \"function_rips_with_threshold_1000_1\"\n",
    "\n",
    "x_min = 1000000\n",
    "x_max = -1000000\n",
    "y_min = 1000000\n",
    "y_max = -1000000\n",
    "\n",
    "rank_dim = 0\n",
    "\n",
    "simplices = []\n",
    "vertice_id = 1\n",
    "i = 0\n",
    "\n",
    "#for line in open(\"../cgta_paper_2021/function_rips/\"+file_name+\".scc\"):\n",
    "for line in open(\"./data/\"+file_name+\".scc\"):\n",
    "    if(line[0]!='#'):\n",
    "        \n",
    "        if(i<=1):\n",
    "            i=i+1\n",
    "            continue\n",
    "            \n",
    "        elif(i==2):\n",
    "            rank_num=[] # sizes of generating sets\n",
    "            for j in line.split():\n",
    "                rank_num.append(int(j))\n",
    "            i=i+1\n",
    "            rank_num=rank_num[:-1]\n",
    "            print(\"rank_num=\",rank_num)\n",
    "        else:\n",
    "            block = line.split(';')\n",
    "            grid = block[0].split()\n",
    "            #grid_x = int(grid[0])\n",
    "            #grid_y = int(grid[1])\n",
    "            grid_x = int(float(grid[0])*10)\n",
    "            grid_y = int(float(grid[1])*10)\n",
    "            \n",
    "            if grid_x > x_max:\n",
    "                x_max = grid_x\n",
    "            if grid_y > y_max:\n",
    "                y_max = grid_y\n",
    "            if grid_x < x_min:\n",
    "                x_min = grid_x\n",
    "            if grid_y < y_min:\n",
    "                y_min = grid_y\n",
    "            \n",
    "            if len(block)>1:\n",
    "                face = block[1].split()\n",
    "                for j in range(len(face)):\n",
    "                    face[j] = int(face[j])\n",
    "                simplices.append([grid_x,grid_y,face])\n",
    "                \n",
    "            else:\n",
    "                simplices.append([grid_x,grid_y,[vertice_id]])\n",
    "                vertice_id += 1\n",
    "            i=i+1   \n",
    "\n",
    "#end_point = [x_range,y_range] \n",
    "\n",
    "\n",
    "simplex_tree = []\n",
    "start_id=0\n",
    "for i in range(len(rank_num)-1,-1,-1):\n",
    "    simplices_i=[]\n",
    "    for j in range(len(simplices)-start_id-rank_num[i],len(simplices)-start_id):\n",
    "        simplices_i.append(simplices[j])\n",
    "    start_id += rank_num[i]\n",
    "    simplex_tree.append(simplices_i)\n",
    "\n",
    "\n",
    "for i in range(1,len(simplex_tree)):\n",
    "    for j in range(len(simplex_tree[i])):\n",
    "        simplex = simplex_tree[i][j]\n",
    "        face = simplex[2]\n",
    "        vertices=[]\n",
    "        for face_id in face:\n",
    "            vert = simplex_tree[i-1][face_id][2]\n",
    "            for vert_id in vert:\n",
    "                if vert_id not in vertices:\n",
    "                    vertices.append(vert_id)\n",
    "        simplex_tree[i][j][2]=vertices\n",
    "\n",
    "\n",
    "\n",
    "## To verify the data structur\n",
    "## simplices contain all the information we need\n",
    "#print(\"the simplex tree:\")\n",
    "#for i in range(len(simplex_tree)):\n",
    "#    for simplex in simplex_tree[i]:\n",
    "#        print(simplex)   \n",
    "\n",
    "       \n"
   ]
  },
  {
   "cell_type": "code",
   "execution_count": 3,
   "id": "460e1c90",
   "metadata": {},
   "outputs": [
    {
     "name": "stdout",
     "output_type": "stream",
     "text": [
      "x_min 0\n",
      "x_max 7\n",
      "y_min -40\n",
      "y_max -23\n",
      "x_range= 7\n",
      "y_range= 17\n"
     ]
    }
   ],
   "source": [
    "print(\"x_min\",x_min)\n",
    "print(\"x_max\",x_max)\n",
    "print(\"y_min\",y_min)\n",
    "print(\"y_max\",y_max)\n",
    "\n",
    "x_range = x_max - x_min\n",
    "y_range = y_max - y_min\n",
    "print(\"x_range=\",x_range)\n",
    "print(\"y_range=\",y_range)\n",
    "\n",
    "end_point = [x_range,y_range]"
   ]
  },
  {
   "cell_type": "markdown",
   "id": "446d7626",
   "metadata": {},
   "source": [
    "## Compute rank invariant"
   ]
  },
  {
   "cell_type": "code",
   "execution_count": 4,
   "id": "8e7ffc33",
   "metadata": {},
   "outputs": [],
   "source": [
    "def create_stair(elbow, end_point):\n",
    "    # stair a path passing through the elbow.\n",
    "    stair = []\n",
    "    \n",
    "    if(elbow[0]==0 or elbow[1]==end_point[1]):\n",
    "        for i in range(end_point[1]+1):\n",
    "            stair.append([0,i])\n",
    "        for j in range(1,end_point[0]+1):\n",
    "            stair.append([j,i])\n",
    "    else:\n",
    "        for i in range(elbow[1]+1):\n",
    "            stair.append([0,i])   # i=0\n",
    "        for j in range(elbow[0]):\n",
    "            stair.append([j+1,i]) # j=0\n",
    "        for k in range(i+1, end_point[1]+1):\n",
    "            stair.append([j+1,k]) # k=2,3\n",
    "        for l in range(j+2, end_point[0]+1):\n",
    "            stair.append([l,k])\n",
    "    return stair\n",
    "\n",
    "def compute_rk(i,j,k,l,barcodes,rank_dim):\n",
    "# This function computes the value rank(s,t) where s=(i,j) and t = (k,l)\n",
    "    if(i>k or j>l):\n",
    "        return 0\n",
    "    \n",
    "    s_1 = i + j\n",
    "    t_1 = k + l\n",
    "    rank0_inv = 0\n",
    "    rank1_inv = 0\n",
    "\n",
    "    for barcode in barcodes:\n",
    "        if(barcode[0]==0):\n",
    "            if(barcode[1][0]<=s_1 and barcode[1][1]>t_1):\n",
    "                rank0_inv = rank0_inv + 1\n",
    "        elif(barcode[0]==1):\n",
    "            if(barcode[1][0]<=s_1 and barcode[1][1]>t_1):\n",
    "                rank1_inv = rank1_inv + 1\n",
    "    if(rank_dim==0):\n",
    "        return rank0_inv\n",
    "    elif(rank_dim==1):\n",
    "        return rank1_inv\n",
    "    "
   ]
  },
  {
   "cell_type": "code",
   "execution_count": 5,
   "id": "5cfb2544",
   "metadata": {},
   "outputs": [],
   "source": [
    "import time\n",
    "#grid is from (0,0)\n",
    "#vertex index is from 1\n",
    "rank_inv = np.array(np.zeros((x_range+1,y_range+1,x_range+1,y_range+1)))\n",
    "\n",
    "st = gd.SimplexTree()\n",
    "#result_rank_fn=\"./result/rank1_invariance_for_\"+file_name+\".txt\"\n",
    "#f_rank = f.open(result_rank_fn,\"w\")\n",
    "\n",
    "\n",
    "\n",
    "#Scan all the elbows\n",
    "for i in range(x_range+1):\n",
    "    for j in range(y_range+1):\n",
    "        elbow = [i,j]\n",
    "        #print(\"elbow\",elbow)\n",
    "        #print(\"time: start building a simplex tree\",time.asctime( time.localtime(time.time()) ))\n",
    "        stair = create_stair(elbow, end_point)\n",
    "        #print(\"stair\",stair)\n",
    "\n",
    "        # Build the simplex tree\n",
    "        \n",
    "        for ii in range(len(simplex_tree)):\n",
    "            for jj in range(len(simplex_tree[ii])):\n",
    "                simplex = simplex_tree[ii][jj]\n",
    "                for grid_id in stair:\n",
    "                    if (simplex[0]-x_min)<=grid_id[0] and (simplex[1]-y_min)<=grid_id[1]:\n",
    "                        filtration_value = grid_id[0]+grid_id[1] #TODO\n",
    "                        #print(\"time enter insert/assign \", time.asctime( time.localtime(time.time())))\n",
    "                        if((st.insert(simplex[2], filtration = filtration_value))==False): #TODO:optimize with C++, we don't have the funciton for Python\n",
    "                            #print(\"time finish insert\",time.asctime( time.localtime(time.time())))\n",
    "                            st.assign_filtration(simplex[2], filtration = filtration_value)\n",
    "                        break\n",
    "                        \n",
    "        #print(\"time: finish building a simplex tree\",time.asctime( time.localtime(time.time()) ))\n",
    "        \n",
    "        st_gen = st.get_filtration() \n",
    "        #for splx in st_gen :\n",
    "        #    print(splx)\n",
    "        \n",
    "        barcodes = st.persistence()\n",
    "        #print(\"barcodes,\",barcodes)\n",
    "        \n",
    "        #print(\"time finish building a simplex tree for one elbow\",time.asctime( time.localtime(time.time()) ))\n",
    "        \n",
    "        for start_id in range(len(stair)):\n",
    "            for end_id in range(start_id,len(stair)):\n",
    "                grid_start = stair[start_id]\n",
    "                grid_end = stair[end_id]\n",
    "                [ri,rj,rk,rl]=[grid_start[0],grid_start[1],grid_end[0],grid_end[1]]\n",
    "                #print(\"[ri,rj,rk,rl]=\",[ri,rj,rk,rl])\n",
    "                rank_inv[ri,rj,rk,rl]=compute_rk(ri,rj,rk,rl,barcodes,rank_dim)\n",
    "                \n",
    "        #print(\"time finish calculating rank invariance\",time.asctime(time.localtime(time.time())))\n",
    "\n",
    "        \n",
    "                "
   ]
  },
  {
   "cell_type": "code",
   "execution_count": 6,
   "id": "e9f529c0",
   "metadata": {},
   "outputs": [],
   "source": [
    "#Now it's rank0_invariance\n",
    "np.save(\"./result/rank\"+str(rank_dim)+\"_invariance_for_\"+file_name,rank_inv)\n",
    "#for i in range(x_range+1):\n",
    "#    for j in range(y_range+1):\n",
    "#        for k in range(i,x_range+1):\n",
    "#            for l in range(j,y_range+1):\n",
    "#                print(\"rank(({0},{1}),({2},{3}))={4}\".format(i,j,k,l,int(rank_inv[i,j,k,l])))\n"
   ]
  },
  {
   "cell_type": "markdown",
   "id": "d5087d07",
   "metadata": {},
   "source": [
    "## compute multiplicity"
   ]
  },
  {
   "cell_type": "code",
   "execution_count": 7,
   "id": "0ce8842b",
   "metadata": {},
   "outputs": [],
   "source": [
    "#\n",
    "#m((i,j),(k,l))\n",
    "def multp(rank, i,j,k,l):\n",
    "    if(i<0 or j<0 or k>rank.shape[1] or l>rank.shape[0]):   \n",
    "        return 0\n",
    "    \n",
    "    res = rank[i,j,k,l]\n",
    "    if(k+1<rank.shape[0]):\n",
    "        res -= rank[i,j,k+1,l]\n",
    "    if(l+1<rank.shape[1]):\n",
    "        res -= rank[i,j,k,l+1]\n",
    "    if(k+1<rank.shape[0] and l+1<rank.shape[1]):\n",
    "        res += rank[i,j,k+1,l+1]\n",
    "    \n",
    "    return res\n",
    "    \n",
    "\n",
    "def compute_R_S_incl_excl(rank):\n",
    "    multiplicity = np.zeros_like(rank)\n",
    "    for i in range(rank.shape[0]):\n",
    "        for j in range(rank.shape[1]):\n",
    "            for k in range(i,rank.shape[0]):\n",
    "                for l in range(j,rank.shape[1]):\n",
    "                    m = multp(rank,i,j,k,l)-multp(rank,i-1,j,k,l)-multp(rank,i,j-1,k,l)+multp(rank,i-1,j-1,k,l)\n",
    "                    if(m!=0):\n",
    "                        multiplicity[i,j,k,l] = m\n",
    "    return multiplicity\n",
    "    "
   ]
  },
  {
   "cell_type": "code",
   "execution_count": 8,
   "id": "27c18e1f",
   "metadata": {},
   "outputs": [],
   "source": [
    "m = compute_R_S_incl_excl(rank_inv)\n",
    "\n",
    "np.save(\"./result/rank\"+str(rank_dim)+\"_multiplicity_for_\"+file_name,m)"
   ]
  },
  {
   "cell_type": "markdown",
   "id": "81fb3855",
   "metadata": {},
   "source": [
    "### Draw grid for multiplicity"
   ]
  },
  {
   "cell_type": "code",
   "execution_count": 9,
   "id": "9975bca1",
   "metadata": {},
   "outputs": [
    {
     "name": "stdout",
     "output_type": "stream",
     "text": [
      "(8, 18, 8, 18)\n",
      "m((0,2),(0,3))=-1\n",
      "m((0,2),(1,3))=1\n",
      "m((0,3),(5,5))=-1\n",
      "m((0,3),(7,5))=1\n"
     ]
    },
    {
     "data": {
      "text/plain": [
       "<matplotlib.image.AxesImage at 0x7fd329aae7c0>"
      ]
     },
     "execution_count": 9,
     "metadata": {},
     "output_type": "execute_result"
    },
    {
     "data": {
      "image/png": "[encoded data removed]",
      "text/plain": [
       "<Figure size 720x720 with 1 Axes>"
      ]
     },
     "metadata": {
      "needs_background": "light"
     },
     "output_type": "display_data"
    }
   ],
   "source": [
    "data = np.ones((x_range,y_range)) * np.nan\n",
    "\n",
    "fig, ax = plt.subplots(1, 1, figsize=(10,10),tight_layout=True)\n",
    "for x in range(x_range+1):\n",
    "    ax.axvline(x, lw=1, color='k', zorder=5) # Horizontal \n",
    "for y in range(y_range+1):\n",
    "    ax.axhline(y, lw=1, color='k', zorder=5) # Ordinate\n",
    "print(m.shape)\n",
    "\n",
    "for i in range(m.shape[0]):\n",
    "    for j in range(m.shape[1]):\n",
    "        for k in range(i,m.shape[0]):\n",
    "            for l in range(j,m.shape[1]):\n",
    "                if(m[i,j,k,l]):\n",
    "                    print(\"m(({0},{1}),({2},{3}))={4}\".format(i,j,k,l,int(m[i,j,k,l])))\n",
    "                if(m[i,j,k,l]>0):\n",
    "                    if(i==k and j==l):\n",
    "                        ax.plot([i, k], [j, l],'bo', linestyle=\"-\")\n",
    "                    elif(i==k):\n",
    "                        ax.plot([i+0.08, k+0.08], [j, l],'bv', linestyle=\"-\")\n",
    "                    elif(j==l):\n",
    "                        ax.plot([i, k], [j+0.08, l+0.08],'bv',linestyle=\"-\")\n",
    "                    else:  \n",
    "                        ax.plot([i, k], [j, l],'bv', linestyle=\"-\")\n",
    "                if(m[i,j,k,l]<0):\n",
    "                    if(i==k and j==l):\n",
    "                        ax.plot([i, k], [j, l],'ro', linestyle=\"-\")\n",
    "                    elif(i==k):\n",
    "                        ax.plot([i-0.08, k-0.08], [j, l],'rv', linestyle=\"-\")\n",
    "                    elif(j==l):\n",
    "                        ax.plot([i, k], [j-0.08, l-0.08],'rv', linestyle=\"-\")\n",
    "                    else:  \n",
    "                        ax.plot([i, k], [j, l], 'rv', linestyle=\"-\")\n",
    "\n",
    "ax.imshow(data, interpolation='none', extent=[-1,x_range+1, -1, y_range+1], zorder=0)\n",
    "\n",
    "#ax.axis('off')"
   ]
  },
  {
   "cell_type": "code",
   "execution_count": null,
   "id": "d8b4e628",
   "metadata": {},
   "outputs": [],
   "source": []
  },
  {
   "cell_type": "code",
   "execution_count": null,
   "id": "aeadd9e5",
   "metadata": {},
   "outputs": [],
   "source": []
  }
 ],
 "metadata": {
  "kernelspec": {
   "display_name": "Python 3 (ipykernel)",
   "language": "python",
   "name": "python3"
  },
  "language_info": {
   "codemirror_mode": {
    "name": "ipython",
    "version": 3
   },
   "file_extension": ".py",
   "mimetype": "text/x-python",
   "name": "python",
   "nbconvert_exporter": "python",
   "pygments_lexer": "ipython3",
   "version": "3.8.12"
  }
 },
 "nbformat": 4,
 "nbformat_minor": 5
}
