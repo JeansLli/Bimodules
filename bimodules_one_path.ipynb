{
 "cells": [
  {
   "cell_type": "code",
   "execution_count": 1,
   "id": "65c011d9",
   "metadata": {},
   "outputs": [],
   "source": [
    "from IPython.display import Image\n",
    "from os import chdir\n",
    "import numpy as np\n",
    "import gudhi as gd\n",
    "import matplotlib.pyplot as plt"
   ]
  },
  {
   "cell_type": "code",
   "execution_count": 2,
   "id": "ef7f006b",
   "metadata": {},
   "outputs": [
    {
     "name": "stdout",
     "output_type": "stream",
     "text": [
      "simplices: [[2, 2, [1, 2]], [1, 0, [1]], [0, 1, [2]], [0, 3, [3]]]\n",
      "it's a 1-simplex\n",
      "it's a 0-simplex\n",
      "it's a 0-simplex\n",
      "it's a 0-simplex\n"
     ]
    }
   ],
   "source": [
    "# read the file\n",
    "\n",
    "i = 0\n",
    "last_block_line = 1\n",
    "x_range = 0\n",
    "y_range = 0\n",
    "simplices = []\n",
    "vertice_id = 1\n",
    "\n",
    "\n",
    "for line in open(\"./data/example_2d_v2.txt\"):\n",
    "    if(line[0]!='#'):\n",
    "        \n",
    "        if(i<=1):\n",
    "            i=i+1\n",
    "            continue\n",
    "            \n",
    "        elif(i==2):\n",
    "            rank=[] # sizes of generating sets\n",
    "            for j in line.split():\n",
    "                rank.append(int(j))\n",
    "            i=i+1\n",
    "            \n",
    "        else:\n",
    "            #print(\"last_block_line=\",last_block_line)\n",
    "            block = line.split(';')\n",
    "            grid = block[0].split()\n",
    "            grid_x = int(grid[0])\n",
    "            grid_y = int(grid[1])\n",
    "            \n",
    "            if grid_x > x_range:\n",
    "                x_range = grid_x\n",
    "            if grid_y > y_range:\n",
    "                y_range = grid_y\n",
    "            \n",
    "            if len(block)>1:\n",
    "                face = block[1].split()\n",
    "                for j in range(len(face)):\n",
    "                    face[j] = int(face[j])\n",
    "                simplices.append([grid_x,grid_y,face])\n",
    "                \n",
    "                #st.insert(face, filtration = filt_value)\n",
    "                \n",
    "            else:\n",
    "                #st.insert([last_block_line], filtration = filt_value)\n",
    "                #last_block_line = last_block_line + 1\n",
    "                simplices.append([grid_x,grid_y,[vertice_id]])\n",
    "                vertice_id += 1\n",
    "            i=i+1   \n",
    "\n",
    "# To verify the data structur\n",
    "print(\"simplices:\",simplices)\n",
    "for i in range(len(simplices)):\n",
    "    simplex = simplices[i]\n",
    "    face = simplex[2]\n",
    "    print(\"it's a %d-simplex\"%(len(face)-1))\n"
   ]
  },
  {
   "cell_type": "code",
   "execution_count": 3,
   "id": "8e7ffc33",
   "metadata": {},
   "outputs": [],
   "source": [
    "def create_stair(elbow, end_point):\n",
    "    stair = []\n",
    "    \n",
    "    if(elbow[0]==0 or elbow[1]==end_point[1]):\n",
    "        for i in range(end_point[1]+1):\n",
    "            stair.append([0,i])\n",
    "        for j in range(1,end_point[0]+1):\n",
    "            stair.append([j,i])\n",
    "    else:\n",
    "        for i in range(elbow[1]+1):\n",
    "            stair.append([0,i])   # i=0\n",
    "        for j in range(elbow[0]):\n",
    "            stair.append([j+1,i]) # j=0\n",
    "        for k in range(i+1, end_point[1]+1):\n",
    "            stair.append([j+1,k]) # k=2,3\n",
    "        for l in range(j+2, end_point[0]+1):\n",
    "            stair.append([l,k])\n",
    "    return stair\n",
    "\n",
    "def compute_rk(i,j,k,l,barcodes):\n",
    "# This function computes the value rank(s,t) where s=(i,j) and t = (k,l)\n",
    "\n",
    "    if(i>k or j>l or (i==k and j==l)):\n",
    "        return 0\n",
    "    \n",
    "    s_1 = i + j\n",
    "    t_1 = k + l\n",
    "\n",
    "    rank0_inv = 0\n",
    "    rank1_inv = 0\n",
    "\n",
    "    for barcode in barcodes:\n",
    "        if(barcode[0]==0):\n",
    "            if(barcode[1][0]<=s_1 and barcode[1][1]>=t_1):\n",
    "                rank0_inv = rank0_inv + 1\n",
    "        elif(barcode[0]==1):\n",
    "            if(barcode[1][0]<=s_1 and barcode[1][1]>=t_1):\n",
    "                rank1_inv = rank1_inv + 1\n",
    "\n",
    "    return rank0_inv"
   ]
  },
  {
   "cell_type": "code",
   "execution_count": 4,
   "id": "ef55bef0",
   "metadata": {},
   "outputs": [
    {
     "name": "stdout",
     "output_type": "stream",
     "text": [
      "end_point [2, 3]\n",
      "stair= [[0, 0], [0, 1], [1, 1], [1, 2], [1, 3], [2, 3]]\n",
      "simplices= [[2, 2, [1, 2]], [1, 0, [1]], [0, 1, [2]], [0, 3, [3]]]\n",
      "Sizes of generating sets = [1, 3]\n",
      "block_num= 2\n"
     ]
    }
   ],
   "source": [
    "# The grid is from [0,0]\n",
    "# But the index of vertice is from 1\n",
    "\n",
    "    \n",
    "\n",
    "# Choose an elbow\n",
    "elbow = [1,1]\n",
    "#elbow = [0,3]\n",
    "end_point = [x_range,y_range] #=[2,3]\n",
    "elbow_buttom = [0,elbow[1]]\n",
    "elbow_right =  [elbow[0],y_range]\n",
    "\n",
    "\n",
    "print(\"end_point\",end_point)\n",
    "st = gd.SimplexTree()\n",
    "stair = create_stair(elbow, end_point)\n",
    "\n",
    "print(\"stair=\",stair)\n",
    "print(\"simplices=\",simplices)\n",
    "print(\"Sizes of generating sets =\",rank)\n",
    "print(\"block_num=\",len(rank))\n",
    "\n",
    "\n",
    "#simplices: [[2, 2, [1, 2]], [1, 0, [1]], [0, 1, [2]], [0, 3, [3]]]\n",
    "for simplex in simplices:\n",
    "    for grid_id in stair:\n",
    "        if simplex[0]<=grid_id[0] and simplex[1]<=grid_id[1]:\n",
    "            st.insert(simplex[2], filtration = (grid_id[0]+grid_id[1]))\n",
    "            break\n",
    "            \n"
   ]
  },
  {
   "cell_type": "code",
   "execution_count": 5,
   "id": "2a597fcf",
   "metadata": {},
   "outputs": [
    {
     "name": "stdout",
     "output_type": "stream",
     "text": [
      "the single filtration is\n",
      "([2], 1.0)\n",
      "([1], 2.0)\n",
      "([3], 4.0)\n",
      "([1, 2], 5.0)\n",
      "The dimension of a simplical complex is 1\n",
      "The number of vertices is 3\n",
      "The number of simplices is 4\n",
      "(0, (4.0, inf))\n",
      "(0, (1.0, inf))\n",
      "(0, (2.0, 5.0))\n"
     ]
    }
   ],
   "source": [
    "st_gen = st.get_filtration() \n",
    "# This step can verify the correctness of building simplex tree for the simplical complex written above\n",
    "print(\"the single filtration is\")\n",
    "for splx in st_gen :\n",
    "    print(splx)\n",
    "\n",
    "print(\"The dimension of a simplical complex is\",st.dimension())\n",
    "print(\"The number of vertices is\",st.num_vertices())\n",
    "print(\"The number of simplices is\",st.num_simplices())\n",
    "\n",
    "barcodes = st.persistence()\n",
    "for barcode in barcodes:\n",
    "    print(barcode)"
   ]
  },
  {
   "cell_type": "code",
   "execution_count": 6,
   "id": "9bd768eb",
   "metadata": {},
   "outputs": [
    {
     "data": {
      "image/png": "[encoded data removed]",
      "text/plain": [
       "<Figure size 432x288 with 1 Axes>"
      ]
     },
     "metadata": {
      "needs_background": "light"
     },
     "output_type": "display_data"
    }
   ],
   "source": [
    "gd.plot_persistence_diagram(barcodes);"
   ]
  },
  {
   "cell_type": "code",
   "execution_count": 7,
   "id": "ef608979",
   "metadata": {},
   "outputs": [
    {
     "name": "stdout",
     "output_type": "stream",
     "text": [
      "stair= [[0, 0], [0, 1], [1, 1], [1, 2], [1, 3], [2, 3]]\n",
      "elbow_buttom_id= 1\n",
      "elbow_id= 2\n",
      "elbow_right_id= 4\n",
      "rank((0,0),(0,1))=0\n",
      "rank((0,0),(1,1))=0\n",
      "rank((0,1),(1,1))=1\n",
      "rank((0,1),(1,2))=1\n",
      "rank((0,1),(1,3))=1\n",
      "rank((1,1),(1,2))=2\n",
      "rank((1,1),(1,3))=2\n",
      "rank((1,1),(2,3))=2\n",
      "rank((1,2),(1,3))=2\n",
      "rank((1,2),(2,3))=2\n",
      "rank((1,3),(2,3))=3\n"
     ]
    }
   ],
   "source": [
    "# then let's compute rank invariance from (0,0) to (4,3)\n",
    "\n",
    "\n",
    "rank_invariance = np.array(np.zeros((x_range+1,y_range+1,x_range+1,y_range+1)))\n",
    "\n",
    "print(\"stair=\",stair)\n",
    "\n",
    "for i in range(len(stair)):\n",
    "    if(stair[i]==elbow):\n",
    "        elbow_id = i\n",
    "    if(stair[i]==elbow_buttom):\n",
    "        elbow_buttom_id = i\n",
    "    if(stair[i]==elbow_right):\n",
    "        elbow_right_id = i\n",
    "\n",
    "print(\"elbow_buttom_id=\",elbow_buttom_id)\n",
    "print(\"elbow_id=\",elbow_id)\n",
    "print(\"elbow_right_id=\",elbow_right_id)\n",
    "\n",
    "\n",
    "\n",
    "for start_id in range(elbow_buttom_id):\n",
    "    for end_id in range(start_id+1,elbow_id+1):\n",
    "        grid_start = stair[start_id]\n",
    "        grid_end = stair[end_id]\n",
    "        [i,j,k,l]=[grid_start[0],grid_start[1],grid_end[0],grid_end[1]]\n",
    "        rank_invariance[i,j,k,l]=compute_rk(i,j,k,l,barcodes)\n",
    "        print(\"rank(({0},{1}),({2},{3}))={4}\".format(i,j,k,l,int(rank_invariance[i,j,k,l])))\n",
    "\n",
    "\n",
    "for start_id in range(elbow_buttom_id,elbow_id):\n",
    "    for end_id in range(start_id+1,elbow_right_id+1):\n",
    "        grid_start = stair[start_id]\n",
    "        grid_end = stair[end_id]\n",
    "        [i,j,k,l]=[grid_start[0],grid_start[1],grid_end[0],grid_end[1]]\n",
    "        rank_invariance[i,j,k,l]=compute_rk(i,j,k,l,barcodes)\n",
    "        print(\"rank(({0},{1}),({2},{3}))={4}\".format(i,j,k,l,int(rank_invariance[i,j,k,l])))\n",
    "\n",
    "\n",
    "for start_id in range(elbow_id,len(stair)):\n",
    "    for end_id in range(start_id+1, len(stair)):\n",
    "        grid_start = stair[start_id]\n",
    "        grid_end = stair[end_id]\n",
    "        [i,j,k,l]=[grid_start[0],grid_start[1],grid_end[0],grid_end[1]]\n",
    "        rank_invariance[i,j,k,l]=compute_rk(i,j,k,l,barcodes)\n",
    "        print(\"rank(({0},{1}),({2},{3}))={4}\".format(i,j,k,l,int(rank_invariance[i,j,k,l])))\n",
    "\n",
    "\n",
    "                "
   ]
  },
  {
   "cell_type": "code",
   "execution_count": 8,
   "id": "e9f529c0",
   "metadata": {},
   "outputs": [],
   "source": [
    "#np.save(\"rank_invariance_for_example_data_2d_v2.npy\",rank_invariance)"
   ]
  }
 ],
 "metadata": {
  "kernelspec": {
   "display_name": "Python [conda env:TDA] *",
   "language": "python",
   "name": "conda-env-TDA-py"
  },
  "language_info": {
   "codemirror_mode": {
    "name": "ipython",
    "version": 3
   },
   "file_extension": ".py",
   "mimetype": "text/x-python",
   "name": "python",
   "nbconvert_exporter": "python",
   "pygments_lexer": "ipython3",
   "version": "3.8.12"
  }
 },
 "nbformat": 4,
 "nbformat_minor": 5
}
