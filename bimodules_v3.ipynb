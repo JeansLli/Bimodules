{
 "cells": [
  {
   "cell_type": "code",
   "execution_count": 1,
   "id": "65c011d9",
   "metadata": {},
   "outputs": [],
   "source": [
    "from IPython.display import Image\n",
    "from os import chdir\n",
    "import numpy as np\n",
    "import gudhi as gd\n",
    "import matplotlib.pyplot as plt\n",
    "import matplotlib\n"
   ]
  },
  {
   "cell_type": "code",
   "execution_count": 2,
   "id": "ef7f006b",
   "metadata": {},
   "outputs": [
    {
     "name": "stdout",
     "output_type": "stream",
     "text": [
      "simplices: [[2, 2, [1, 2]], [1, 0, [1]], [0, 1, [2]], [0, 3, [3]]]\n",
      "This a 1-simplex. Its face is [1, 2]\n",
      "This a 0-simplex. Its index is 1\n",
      "This a 0-simplex. Its index is 2\n",
      "This a 0-simplex. Its index is 3\n"
     ]
    }
   ],
   "source": [
    "# read the file\n",
    "file_name = \"example_2d_v3\"\n",
    "\n",
    "x_range = 0\n",
    "y_range = 0\n",
    "simplices = []\n",
    "vertice_id = 1\n",
    "i = 0\n",
    "for line in open(\"./data/\"+file_name+\".txt\"):\n",
    "    if(line[0]!='#'):\n",
    "        \n",
    "        if(i<=1):\n",
    "            i=i+1\n",
    "            continue\n",
    "            \n",
    "        elif(i==2):\n",
    "            rank=[] # sizes of generating sets\n",
    "            for j in line.split():\n",
    "                rank.append(int(j))\n",
    "            i=i+1\n",
    "            \n",
    "        else:\n",
    "            block = line.split(';')\n",
    "            grid = block[0].split()\n",
    "            grid_x = int(grid[0])\n",
    "            grid_y = int(grid[1])\n",
    "            \n",
    "            if grid_x > x_range:\n",
    "                x_range = grid_x\n",
    "            if grid_y > y_range:\n",
    "                y_range = grid_y\n",
    "            \n",
    "            if len(block)>1:\n",
    "                face = block[1].split()\n",
    "                for j in range(len(face)):\n",
    "                    face[j] = int(face[j])\n",
    "                simplices.append([grid_x,grid_y,face])\n",
    "                \n",
    "            else:\n",
    "                simplices.append([grid_x,grid_y,[vertice_id]])\n",
    "                vertice_id += 1\n",
    "            i=i+1   \n",
    "\n",
    "end_point = [x_range,y_range] #=[2,3]\n",
    "\n",
    "            \n",
    "# To verify the data structur\n",
    "# simplices contain all the information we need\n",
    "print(\"simplices:\",simplices)\n",
    "for i in range(len(simplices)):\n",
    "    simplex = simplices[i]\n",
    "    face = simplex[2]\n",
    "    if(len(face)>1):\n",
    "        print(\"This a %d-simplex. Its face is\"%(len(face)-1),face)\n",
    "    else:\n",
    "        print(\"This a %d-simplex. Its index is\"%(len(face)-1),face[0])\n"
   ]
  },
  {
   "cell_type": "markdown",
   "id": "446d7626",
   "metadata": {},
   "source": [
    "## Compute rank invariant"
   ]
  },
  {
   "cell_type": "code",
   "execution_count": 3,
   "id": "8e7ffc33",
   "metadata": {},
   "outputs": [],
   "source": [
    "def create_stair(elbow, end_point):\n",
    "    # stair a path passing through the elbow.\n",
    "    stair = []\n",
    "    \n",
    "    if(elbow[0]==0 or elbow[1]==end_point[1]):\n",
    "        for i in range(end_point[1]+1):\n",
    "            stair.append([0,i])\n",
    "        for j in range(1,end_point[0]+1):\n",
    "            stair.append([j,i])\n",
    "    else:\n",
    "        for i in range(elbow[1]+1):\n",
    "            stair.append([0,i])   # i=0\n",
    "        for j in range(elbow[0]):\n",
    "            stair.append([j+1,i]) # j=0\n",
    "        for k in range(i+1, end_point[1]+1):\n",
    "            stair.append([j+1,k]) # k=2,3\n",
    "        for l in range(j+2, end_point[0]+1):\n",
    "            stair.append([l,k])\n",
    "    return stair\n",
    "\n",
    "def compute_rk(i,j,k,l,barcodes):\n",
    "# This function computes the value rank(s,t) where s=(i,j) and t = (k,l)\n",
    "    if(i>k or j>l):\n",
    "        return 0\n",
    "    \n",
    "    s_1 = i + j\n",
    "    t_1 = k + l\n",
    "    rank0_inv = 0\n",
    "    rank1_inv = 0\n",
    "\n",
    "    for barcode in barcodes:\n",
    "        if(barcode[0]==0):\n",
    "            if(barcode[1][0]<=s_1 and barcode[1][1]>t_1):\n",
    "                rank0_inv = rank0_inv + 1\n",
    "        elif(barcode[0]==1):\n",
    "            if(barcode[1][0]<=s_1 and barcode[1][1]>t_1):\n",
    "                rank1_inv = rank1_inv + 1\n",
    "\n",
    "    return rank0_inv\n",
    "    #return rank1_inv"
   ]
  },
  {
   "cell_type": "code",
   "execution_count": 4,
   "id": "5cfb2544",
   "metadata": {},
   "outputs": [],
   "source": [
    "rank_inv = np.array(np.zeros((x_range+1,y_range+1,x_range+1,y_range+1)))\n",
    "\n",
    "st = gd.SimplexTree()\n",
    "# st.assign_filtration([3], filtration = 0.8)\n",
    "\n",
    "#Scan all the elbows\n",
    "for i in range(x_range+1):\n",
    "    for j in range(y_range+1):\n",
    "        elbow = [i,j]\n",
    "        stair = create_stair(elbow, end_point)\n",
    "\n",
    "        # Build the simplex tree\n",
    "        for simplex in simplices:\n",
    "            for grid_id in stair:\n",
    "                if simplex[0]<=grid_id[0] and simplex[1]<=grid_id[1]:\n",
    "                    filtration_value = grid_id[0]+grid_id[1]\n",
    "                    if((st.insert(simplex[2], filtration = filtration_value))==False):\n",
    "                        st.assign_filtration(simplex[2], filtration = filtration_value)\n",
    "                    break\n",
    "        \n",
    "        st_gen = st.get_filtration() \n",
    "        barcodes = st.persistence()\n",
    "        \n",
    "        for start_id in range(len(stair)):\n",
    "            for end_id in range(start_id,len(stair)):\n",
    "                grid_start = stair[start_id]\n",
    "                grid_end = stair[end_id]\n",
    "                [i,j,k,l]=[grid_start[0],grid_start[1],grid_end[0],grid_end[1]]\n",
    "                rank_inv[i,j,k,l]=compute_rk(i,j,k,l,barcodes)\n",
    "                #print(\"rank(({0},{1}),({2},{3}))={4}\".format(i,j,k,l,int(rank_inv[i,j,k,l])))\n",
    "                \n",
    "                \n",
    "#for i in range(x_range+1):\n",
    "#    for j in range(y_range+1):\n",
    "#        for k in range(x_range+1):\n",
    "#            for l in range(y_range+1):\n",
    "#                print(\"rank(({0},{1}),({2},{3}))={4}\".format(i,j,k,l,int(rank_inv[i,j,k,l])))\n",
    "\n",
    "        \n"
   ]
  },
  {
   "cell_type": "code",
   "execution_count": 5,
   "id": "e9f529c0",
   "metadata": {},
   "outputs": [],
   "source": [
    "#Now it's rank0_invariance\n",
    "np.save(\"./result/rank0_invariance_for_\"+file_name,rank_inv)"
   ]
  },
  {
   "cell_type": "markdown",
   "id": "d5087d07",
   "metadata": {},
   "source": [
    "## compute multiplicity"
   ]
  },
  {
   "cell_type": "code",
   "execution_count": 6,
   "id": "871dc1ae",
   "metadata": {},
   "outputs": [
    {
     "data": {
      "text/plain": [
       "(3, 4, 3, 4)"
      ]
     },
     "execution_count": 6,
     "metadata": {},
     "output_type": "execute_result"
    }
   ],
   "source": [
    "rank_inv.shape"
   ]
  },
  {
   "cell_type": "code",
   "execution_count": 7,
   "id": "0ce8842b",
   "metadata": {},
   "outputs": [],
   "source": [
    "#\n",
    "#m((i,j),(k,l))\n",
    "def multp(rank, i,j,k,l):\n",
    "    if(i<0 or j<0 or k>rank.shape[1] or l>rank.shape[0]):   \n",
    "        return 0\n",
    "    \n",
    "    res = rank[i,j,k,l]\n",
    "    if(k+1<rank.shape[0]):\n",
    "        res -= rank[i,j,k+1,l]\n",
    "    if(l+1<rank.shape[1]):\n",
    "        res -= rank[i,j,k,l+1]\n",
    "    if(k+1<rank.shape[0] and l+1<rank.shape[1]):\n",
    "        res += rank[i,j,k+1,l+1]\n",
    "    \n",
    "    return res\n",
    "    \n",
    "\n",
    "def compute_R_S_incl_excl(rank):\n",
    "    multiplicity = np.zeros_like(rank)\n",
    "    for i in range(rank.shape[0]):\n",
    "        for j in range(rank.shape[1]):\n",
    "            for k in range(i,rank.shape[0]):\n",
    "                for l in range(j,rank.shape[1]):\n",
    "                    m = multp(rank,i,j,k,l)-multp(rank,i-1,j,k,l)-multp(rank,i,j-1,k,l)+multp(rank,i-1,j-1,k,l)\n",
    "                    if(m!=0):\n",
    "                        multiplicity[i,j,k,l] = m\n",
    "    return multiplicity\n",
    "    "
   ]
  },
  {
   "cell_type": "code",
   "execution_count": 8,
   "id": "27c18e1f",
   "metadata": {},
   "outputs": [],
   "source": [
    "m = compute_R_S_incl_excl(rank_inv)\n",
    "\n",
    "np.save(\"./result/multiplicity_for_\"+file_name,m)"
   ]
  },
  {
   "cell_type": "markdown",
   "id": "81fb3855",
   "metadata": {},
   "source": [
    "### Draw grid for multiplicity"
   ]
  },
  {
   "cell_type": "code",
   "execution_count": 9,
   "id": "6b99316a",
   "metadata": {},
   "outputs": [
    {
     "data": {
      "text/plain": [
       "<matplotlib.image.AxesImage at 0x7f8381200160>"
      ]
     },
     "execution_count": 9,
     "metadata": {},
     "output_type": "execute_result"
    },
    {
     "data": {
      "image/png": "[encoded data removed]",
      "text/plain": [
       "<Figure size 432x288 with 1 Axes>"
      ]
     },
     "metadata": {
      "needs_background": "light"
     },
     "output_type": "display_data"
    }
   ],
   "source": [
    "data = np.ones((x_range,y_range)) * np.nan\n",
    "\n",
    "fig, ax = plt.subplots(1, 1, tight_layout=True)\n",
    "for x in range(x_range+1):\n",
    "    ax.axvline(x, lw=2, color='k', zorder=5) # Horizontal \n",
    "for y in range(y_range+1):\n",
    "    ax.axhline(y, lw=2, color='k', zorder=5) # Ordinate\n",
    "    \n",
    "for i in range(m.shape[0]):\n",
    "    for j in range(m.shape[1]):\n",
    "        for k in range(i,m.shape[0]):\n",
    "            for l in range(j,m.shape[1]):\n",
    "                if(m[i,j,k,l]>0):\n",
    "                    if(i==k):\n",
    "                        ax.plot([i-0.05, k-0.05], [j, l],'bo', linestyle=\"-\")\n",
    "                    elif(j==l):\n",
    "                        ax.plot([i, k], [j+0.05, l+0.05],'bo',linestyle=\"-\")\n",
    "                    else:  \n",
    "                        ax.plot([i, k], [j, l],'bo', linestyle=\"-\")\n",
    "                if(m[i,j,k,l]<0):\n",
    "                    if(i==k):\n",
    "                        ax.plot([i-0.05, k-0.05], [j, l],'ro', linestyle=\"-\")\n",
    "                    elif(j==l):\n",
    "                        ax.plot([i, k], [j+0.05, l+0.05],'ro', linestyle=\"-\")\n",
    "                    else:  \n",
    "                        ax.plot([i, k], [j, l], 'ro', linestyle=\"-\")\n",
    "\n",
    "ax.imshow(data, interpolation='none', extent=[0,x_range, 0, y_range], zorder=0)\n",
    "\n",
    "#ax.axis('off')"
   ]
  },
  {
   "cell_type": "code",
   "execution_count": null,
   "id": "d8b4e628",
   "metadata": {},
   "outputs": [],
   "source": []
  },
  {
   "cell_type": "code",
   "execution_count": null,
   "id": "aeadd9e5",
   "metadata": {},
   "outputs": [],
   "source": []
  }
 ],
 "metadata": {
  "kernelspec": {
   "display_name": "Python [conda env:TDA] *",
   "language": "python",
   "name": "conda-env-TDA-py"
  },
  "language_info": {
   "codemirror_mode": {
    "name": "ipython",
    "version": 3
   },
   "file_extension": ".py",
   "mimetype": "text/x-python",
   "name": "python",
   "nbconvert_exporter": "python",
   "pygments_lexer": "ipython3",
   "version": "3.8.12"
  }
 },
 "nbformat": 4,
 "nbformat_minor": 5
}
